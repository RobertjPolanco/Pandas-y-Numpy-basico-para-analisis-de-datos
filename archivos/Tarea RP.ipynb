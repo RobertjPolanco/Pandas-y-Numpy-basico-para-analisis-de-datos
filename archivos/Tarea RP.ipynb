{
 "cells": [
  {
   "attachments": {},
   "cell_type": "markdown",
   "metadata": {},
   "source": [
    "Ejercicios Matias\n"
   ]
  },
  {
   "attachments": {},
   "cell_type": "markdown",
   "metadata": {},
   "source": [
    "Numpys\n"
   ]
  },
  {
   "cell_type": "code",
   "execution_count": 16,
   "metadata": {},
   "outputs": [],
   "source": [
    "import numpy as np"
   ]
  },
  {
   "cell_type": "code",
   "execution_count": 17,
   "metadata": {},
   "outputs": [
    {
     "name": "stdout",
     "output_type": "stream",
     "text": [
      "['Robert' 'Polanco' 'masculino' 'San Martin' 'Buenos Aires']\n"
     ]
    },
    {
     "data": {
      "text/plain": [
       "numpy.ndarray"
      ]
     },
     "execution_count": 17,
     "metadata": {},
     "output_type": "execute_result"
    }
   ],
   "source": [
    " #generamos un Array que tenga la siguiente información (nombre apellido genero ciudad provincia )\n",
    "# arreglo de una dimensión'Robert', 'Polanco', 'masculino', 'San Martin', 'Buenos Aires'\n",
    "informacion = np.array(['Robert', 'Polanco', 'masculino', 'San Martin', 'Buenos Aires'])\n",
    "print(informacion)\n",
    "type(informacion)"
   ]
  },
  {
   "cell_type": "code",
   "execution_count": 63,
   "metadata": {},
   "outputs": [],
   "source": [
    "#arreglo de dos dimensiones\n",
    "dimension_2 = np.array([['Robert', 'Polanco', 'masculino', 'San Martin', 'Buenos Aires'],[1,2,3,4,5]])\n",
    "\n"
   ]
  },
  {
   "cell_type": "code",
   "execution_count": 64,
   "metadata": {},
   "outputs": [
    {
     "name": "stdout",
     "output_type": "stream",
     "text": [
      "[['Robert' 'Polanco' 'masculino' 'San Martin' 'Buenos Aires']\n",
      " ['1' '2' '3' '4' '5']]\n"
     ]
    },
    {
     "data": {
      "text/plain": [
       "numpy.ndarray"
      ]
     },
     "execution_count": 64,
     "metadata": {},
     "output_type": "execute_result"
    }
   ],
   "source": [
    "print(dimension_2)\n",
    "type(dimension_2)"
   ]
  },
  {
   "cell_type": "code",
   "execution_count": 71,
   "metadata": {},
   "outputs": [
    {
     "data": {
      "text/plain": [
       "2"
      ]
     },
     "execution_count": 71,
     "metadata": {},
     "output_type": "execute_result"
    }
   ],
   "source": [
    "#el metodo ndim nos permite conocer las dimensiones de un array\n",
    "\n",
    "dimension_2.ndim\n"
   ]
  },
  {
   "cell_type": "code",
   "execution_count": 72,
   "metadata": {},
   "outputs": [
    {
     "data": {
      "text/plain": [
       "'Robert'"
      ]
     },
     "execution_count": 72,
     "metadata": {},
     "output_type": "execute_result"
    }
   ],
   "source": [
    "#Indices, acceso a los elementos del array\n",
    "#el primer arreglo solo posee una dimension asi que sera mas simple si queremos acceder a \"Matias\" \n",
    "#solo debemos recordar que en Python se comienza desde el 0\n",
    "informacion[0]"
   ]
  },
  {
   "cell_type": "code",
   "execution_count": 75,
   "metadata": {},
   "outputs": [
    {
     "data": {
      "text/plain": [
       "'1'"
      ]
     },
     "execution_count": 75,
     "metadata": {},
     "output_type": "execute_result"
    }
   ],
   "source": [
    "#en el segundo ya tenemos dos dimensiones, primero colocaremos la fila y podemos recordarlo como \n",
    "# FC = Futbol Club\n",
    "dimension_2[1][0]"
   ]
  },
  {
   "cell_type": "code",
   "execution_count": 77,
   "metadata": {},
   "outputs": [
    {
     "data": {
      "text/plain": [
       "array(['Robert', 'Polanco', 'masculino'], dtype='<U12')"
      ]
     },
     "execution_count": 77,
     "metadata": {},
     "output_type": "execute_result"
    }
   ],
   "source": [
    "#todas las características de los indices que conocemos de Python serán útiles por ejemplo queremos los 3 primeros valores de arreglo_uno\n",
    "informacion[0:3]"
   ]
  },
  {
   "cell_type": "code",
   "execution_count": 82,
   "metadata": {},
   "outputs": [
    {
     "data": {
      "text/plain": [
       "array(['1', '2', '3'], dtype='<U12')"
      ]
     },
     "execution_count": 82,
     "metadata": {},
     "output_type": "execute_result"
    }
   ],
   "source": [
    "dimension_2[1][0:3]"
   ]
  },
  {
   "attachments": {},
   "cell_type": "markdown",
   "metadata": {},
   "source": [
    "Permite realizar una copia de los datos y cualquier cambio realizado en la copia no afectará la matriz original, y cualquier cambio realizado en la matriz original no afectará a la copia.\n"
   ]
  },
  {
   "cell_type": "code",
   "execution_count": 84,
   "metadata": {},
   "outputs": [],
   "source": [
    "#copia\n",
    "copias_1= np.copy(dimension_2)"
   ]
  },
  {
   "cell_type": "code",
   "execution_count": 88,
   "metadata": {},
   "outputs": [
    {
     "name": "stdout",
     "output_type": "stream",
     "text": [
      "['Robert' 'Polanco' 'masculino' 'San Martin' 'Buenos Aires']\n"
     ]
    }
   ],
   "source": [
    "copias_1 = informacion.copy()\n",
    "print(copias_1)"
   ]
  },
  {
   "cell_type": "code",
   "execution_count": 89,
   "metadata": {},
   "outputs": [
    {
     "name": "stdout",
     "output_type": "stream",
     "text": [
      "['Robert' 'Polanco' 'masculino' 'San Martin' 'Buenos Aires']\n",
      "['Robert' 'Polanco' 'M' 'San Martin' 'Buenos Aires']\n"
     ]
    }
   ],
   "source": [
    "copias_1[2]= 'M'\n",
    "print(informacion)\n",
    "print(copias_1)"
   ]
  },
  {
   "cell_type": "code",
   "execution_count": 101,
   "metadata": {},
   "outputs": [],
   "source": [
    "#**concatenate():** Permiter unir dos o maás matrices en una sola matriz.\n",
    "bandas = np.array(['Pink Floyd', 'The Doors', 'Led Zeppelin'])\n",
    "arreglo_conc= np.concatenate((informacion, bandas))\n"
   ]
  },
  {
   "cell_type": "code",
   "execution_count": 102,
   "metadata": {},
   "outputs": [
    {
     "name": "stdout",
     "output_type": "stream",
     "text": [
      "['Robert' 'Polanco' 'masculino' 'San Martin' 'Buenos Aires' 'Pink Floyd'\n",
      " 'The Doors' 'Led Zeppelin']\n"
     ]
    },
    {
     "data": {
      "text/plain": [
       "numpy.ndarray"
      ]
     },
     "execution_count": 102,
     "metadata": {},
     "output_type": "execute_result"
    }
   ],
   "source": [
    "print(arreglo_conc)\n",
    "type(arreglo_conc)"
   ]
  },
  {
   "cell_type": "code",
   "execution_count": 105,
   "metadata": {},
   "outputs": [
    {
     "name": "stdout",
     "output_type": "stream",
     "text": [
      "[array(['Robert', 'Polanco'], dtype='<U12'), array(['masculino', 'San Martin'], dtype='<U12'), array(['Buenos Aires', 'Pink Floyd'], dtype='<U12'), array(['The Doors', 'Led Zeppelin'], dtype='<U12')]\n"
     ]
    }
   ],
   "source": [
    "#metodo split\n",
    "dividir = np.split(arreglo_conc, 4)\n",
    "print(dividir)"
   ]
  },
  {
   "attachments": {},
   "cell_type": "markdown",
   "metadata": {},
   "source": [
    "PANDAS"
   ]
  },
  {
   "cell_type": "code",
   "execution_count": 106,
   "metadata": {},
   "outputs": [],
   "source": [
    "import pandas as pd"
   ]
  },
  {
   "cell_type": "code",
   "execution_count": 110,
   "metadata": {},
   "outputs": [],
   "source": [
    "#Leemos el dataset\n",
    "df_data = pd.read_csv('data.csv')\n",
    "                      \n",
    "                      "
   ]
  },
  {
   "cell_type": "code",
   "execution_count": 144,
   "metadata": {},
   "outputs": [
    {
     "data": {
      "text/html": [
       "<div>\n",
       "<style scoped>\n",
       "    .dataframe tbody tr th:only-of-type {\n",
       "        vertical-align: middle;\n",
       "    }\n",
       "\n",
       "    .dataframe tbody tr th {\n",
       "        vertical-align: top;\n",
       "    }\n",
       "\n",
       "    .dataframe thead th {\n",
       "        text-align: right;\n",
       "    }\n",
       "</style>\n",
       "<table border=\"1\" class=\"dataframe\">\n",
       "  <thead>\n",
       "    <tr style=\"text-align: right;\">\n",
       "      <th></th>\n",
       "      <th>first_name</th>\n",
       "      <th>last_name</th>\n",
       "      <th>gender</th>\n",
       "      <th>city_name</th>\n",
       "      <th>department_name</th>\n",
       "      <th>id_branch</th>\n",
       "      <th>medicine_type</th>\n",
       "      <th>medicine_quantity</th>\n",
       "      <th>systolic_pressure</th>\n",
       "      <th>diastolic_pressure</th>\n",
       "    </tr>\n",
       "  </thead>\n",
       "  <tbody>\n",
       "    <tr>\n",
       "      <th>0</th>\n",
       "      <td>Meagan</td>\n",
       "      <td>Swanson</td>\n",
       "      <td>f</td>\n",
       "      <td>Bucaramanga</td>\n",
       "      <td>Santander</td>\n",
       "      <td>27</td>\n",
       "      <td>8</td>\n",
       "      <td>158</td>\n",
       "      <td>142</td>\n",
       "      <td>85</td>\n",
       "    </tr>\n",
       "    <tr>\n",
       "      <th>1</th>\n",
       "      <td>Jennifer</td>\n",
       "      <td>Hancock</td>\n",
       "      <td>f</td>\n",
       "      <td>Bogota</td>\n",
       "      <td>Cundinamarca</td>\n",
       "      <td>14</td>\n",
       "      <td>9</td>\n",
       "      <td>11</td>\n",
       "      <td>186</td>\n",
       "      <td>115</td>\n",
       "    </tr>\n",
       "    <tr>\n",
       "      <th>2</th>\n",
       "      <td>Dorothy</td>\n",
       "      <td>Brumley</td>\n",
       "      <td>f</td>\n",
       "      <td>Medellin</td>\n",
       "      <td>Antioquia</td>\n",
       "      <td>2</td>\n",
       "      <td>18</td>\n",
       "      <td>100</td>\n",
       "      <td>190</td>\n",
       "      <td>124</td>\n",
       "    </tr>\n",
       "    <tr>\n",
       "      <th>3</th>\n",
       "      <td>Stephanie</td>\n",
       "      <td>Lamb</td>\n",
       "      <td>f</td>\n",
       "      <td>Riohacha</td>\n",
       "      <td>La Guajira</td>\n",
       "      <td>18</td>\n",
       "      <td>9</td>\n",
       "      <td>57</td>\n",
       "      <td>212</td>\n",
       "      <td>144</td>\n",
       "    </tr>\n",
       "    <tr>\n",
       "      <th>4</th>\n",
       "      <td>Keith</td>\n",
       "      <td>Wright</td>\n",
       "      <td>m</td>\n",
       "      <td>Pasto</td>\n",
       "      <td>Narino</td>\n",
       "      <td>21</td>\n",
       "      <td>20</td>\n",
       "      <td>150</td>\n",
       "      <td>24</td>\n",
       "      <td>48</td>\n",
       "    </tr>\n",
       "  </tbody>\n",
       "</table>\n",
       "</div>"
      ],
      "text/plain": [
       "  first_name last_name gender    city_name department_name  id_branch  \\\n",
       "0     Meagan   Swanson      f  Bucaramanga       Santander         27   \n",
       "1   Jennifer   Hancock      f       Bogota    Cundinamarca         14   \n",
       "2    Dorothy   Brumley      f     Medellin       Antioquia          2   \n",
       "3  Stephanie      Lamb      f     Riohacha      La Guajira         18   \n",
       "4      Keith    Wright      m        Pasto          Narino         21   \n",
       "\n",
       "   medicine_type  medicine_quantity  systolic_pressure  diastolic_pressure  \n",
       "0              8                158                142                  85  \n",
       "1              9                 11                186                 115  \n",
       "2             18                100                190                 124  \n",
       "3              9                 57                212                 144  \n",
       "4             20                150                 24                  48  "
      ]
     },
     "execution_count": 144,
     "metadata": {},
     "output_type": "execute_result"
    }
   ],
   "source": [
    "df_data.head(5)\n",
    "#permite ver los encabezados y las primeras filas"
   ]
  },
  {
   "cell_type": "code",
   "execution_count": 112,
   "metadata": {},
   "outputs": [
    {
     "data": {
      "text/html": [
       "<div>\n",
       "<style scoped>\n",
       "    .dataframe tbody tr th:only-of-type {\n",
       "        vertical-align: middle;\n",
       "    }\n",
       "\n",
       "    .dataframe tbody tr th {\n",
       "        vertical-align: top;\n",
       "    }\n",
       "\n",
       "    .dataframe thead th {\n",
       "        text-align: right;\n",
       "    }\n",
       "</style>\n",
       "<table border=\"1\" class=\"dataframe\">\n",
       "  <thead>\n",
       "    <tr style=\"text-align: right;\">\n",
       "      <th></th>\n",
       "      <th>first_name</th>\n",
       "      <th>last_name</th>\n",
       "      <th>gender</th>\n",
       "      <th>city_name</th>\n",
       "      <th>department_name</th>\n",
       "      <th>id_branch</th>\n",
       "      <th>medicine_type</th>\n",
       "      <th>medicine_quantity</th>\n",
       "      <th>systolic_pressure</th>\n",
       "      <th>diastolic_pressure</th>\n",
       "    </tr>\n",
       "  </thead>\n",
       "  <tbody>\n",
       "    <tr>\n",
       "      <th>99997</th>\n",
       "      <td>Frida</td>\n",
       "      <td>Ellis</td>\n",
       "      <td>f</td>\n",
       "      <td>Riohacha</td>\n",
       "      <td>La Guajira</td>\n",
       "      <td>18</td>\n",
       "      <td>18</td>\n",
       "      <td>225</td>\n",
       "      <td>197</td>\n",
       "      <td>120</td>\n",
       "    </tr>\n",
       "    <tr>\n",
       "      <th>99998</th>\n",
       "      <td>Bernard</td>\n",
       "      <td>Thurman</td>\n",
       "      <td>m</td>\n",
       "      <td>Puerto Carreno</td>\n",
       "      <td>Vichada</td>\n",
       "      <td>32</td>\n",
       "      <td>13</td>\n",
       "      <td>125</td>\n",
       "      <td>213</td>\n",
       "      <td>139</td>\n",
       "    </tr>\n",
       "    <tr>\n",
       "      <th>99999</th>\n",
       "      <td>Jeffrey</td>\n",
       "      <td>Ringer</td>\n",
       "      <td>m</td>\n",
       "      <td>Tunja</td>\n",
       "      <td>Boyaca</td>\n",
       "      <td>6</td>\n",
       "      <td>15</td>\n",
       "      <td>221</td>\n",
       "      <td>52</td>\n",
       "      <td>22</td>\n",
       "    </tr>\n",
       "  </tbody>\n",
       "</table>\n",
       "</div>"
      ],
      "text/plain": [
       "      first_name last_name gender       city_name department_name  id_branch  \\\n",
       "99997      Frida     Ellis      f        Riohacha      La Guajira         18   \n",
       "99998    Bernard   Thurman      m  Puerto Carreno         Vichada         32   \n",
       "99999    Jeffrey    Ringer      m           Tunja          Boyaca          6   \n",
       "\n",
       "       medicine_type  medicine_quantity  systolic_pressure  diastolic_pressure  \n",
       "99997             18                225                197                 120  \n",
       "99998             13                125                213                 139  \n",
       "99999             15                221                 52                  22  "
      ]
     },
     "execution_count": 112,
     "metadata": {},
     "output_type": "execute_result"
    }
   ],
   "source": [
    "df_data.tail(3)\n",
    "#muesta los encabezados y las ultimas filas"
   ]
  },
  {
   "cell_type": "code",
   "execution_count": 113,
   "metadata": {},
   "outputs": [
    {
     "name": "stdout",
     "output_type": "stream",
     "text": [
      "<class 'pandas.core.frame.DataFrame'>\n",
      "RangeIndex: 100000 entries, 0 to 99999\n",
      "Data columns (total 10 columns):\n",
      " #   Column              Non-Null Count   Dtype \n",
      "---  ------              --------------   ----- \n",
      " 0   first_name          100000 non-null  object\n",
      " 1   last_name           100000 non-null  object\n",
      " 2   gender              100000 non-null  object\n",
      " 3   city_name           100000 non-null  object\n",
      " 4   department_name     100000 non-null  object\n",
      " 5   id_branch           100000 non-null  int64 \n",
      " 6   medicine_type       100000 non-null  int64 \n",
      " 7   medicine_quantity   100000 non-null  int64 \n",
      " 8   systolic_pressure   100000 non-null  int64 \n",
      " 9   diastolic_pressure  100000 non-null  int64 \n",
      "dtypes: int64(5), object(5)\n",
      "memory usage: 7.6+ MB\n"
     ]
    }
   ],
   "source": [
    "df_data.info()\n",
    "#  muestra la informacion y la memoria ocupada"
   ]
  },
  {
   "cell_type": "code",
   "execution_count": 117,
   "metadata": {},
   "outputs": [
    {
     "data": {
      "text/plain": [
       "Index(['first_name', 'last_name', 'gender', 'city_name', 'department_name',\n",
       "       'id_branch', 'medicine_type', 'medicine_quantity', 'systolic_pressure',\n",
       "       'diastolic_pressure'],\n",
       "      dtype='object')"
      ]
     },
     "execution_count": 117,
     "metadata": {},
     "output_type": "execute_result"
    }
   ],
   "source": [
    "df_data.columns\n",
    "#mustra las columnas del DF"
   ]
  },
  {
   "cell_type": "code",
   "execution_count": 118,
   "metadata": {},
   "outputs": [
    {
     "data": {
      "text/plain": [
       "pandas.core.frame.DataFrame"
      ]
     },
     "execution_count": 118,
     "metadata": {},
     "output_type": "execute_result"
    }
   ],
   "source": [
    "type(df_data) #muestra el tipo del archivo"
   ]
  },
  {
   "cell_type": "code",
   "execution_count": 120,
   "metadata": {},
   "outputs": [
    {
     "data": {
      "text/plain": [
       "RangeIndex(start=0, stop=100000, step=1)"
      ]
     },
     "execution_count": 120,
     "metadata": {},
     "output_type": "execute_result"
    }
   ],
   "source": [
    "df_data.index\n",
    "# la informacion sobre el indice, inicio, final y los saltos"
   ]
  },
  {
   "attachments": {},
   "cell_type": "markdown",
   "metadata": {},
   "source": [
    "La función describe nos entrega las estadísticas descriptivas que nos permite conocer la tendencia de los datos, dispersión, distribución, valores nulos y otros más."
   ]
  },
  {
   "cell_type": "code",
   "execution_count": 122,
   "metadata": {},
   "outputs": [
    {
     "data": {
      "text/html": [
       "<div>\n",
       "<style scoped>\n",
       "    .dataframe tbody tr th:only-of-type {\n",
       "        vertical-align: middle;\n",
       "    }\n",
       "\n",
       "    .dataframe tbody tr th {\n",
       "        vertical-align: top;\n",
       "    }\n",
       "\n",
       "    .dataframe thead th {\n",
       "        text-align: right;\n",
       "    }\n",
       "</style>\n",
       "<table border=\"1\" class=\"dataframe\">\n",
       "  <thead>\n",
       "    <tr style=\"text-align: right;\">\n",
       "      <th></th>\n",
       "      <th>id_branch</th>\n",
       "      <th>medicine_type</th>\n",
       "      <th>medicine_quantity</th>\n",
       "      <th>systolic_pressure</th>\n",
       "      <th>diastolic_pressure</th>\n",
       "    </tr>\n",
       "  </thead>\n",
       "  <tbody>\n",
       "    <tr>\n",
       "      <th>count</th>\n",
       "      <td>100000.000000</td>\n",
       "      <td>100000.00000</td>\n",
       "      <td>100000.000000</td>\n",
       "      <td>100000.000000</td>\n",
       "      <td>100000.000000</td>\n",
       "    </tr>\n",
       "    <tr>\n",
       "      <th>mean</th>\n",
       "      <td>16.501000</td>\n",
       "      <td>10.46311</td>\n",
       "      <td>150.525970</td>\n",
       "      <td>162.720940</td>\n",
       "      <td>104.923600</td>\n",
       "    </tr>\n",
       "    <tr>\n",
       "      <th>std</th>\n",
       "      <td>9.227581</td>\n",
       "      <td>5.75670</td>\n",
       "      <td>86.583277</td>\n",
       "      <td>64.953412</td>\n",
       "      <td>43.240598</td>\n",
       "    </tr>\n",
       "    <tr>\n",
       "      <th>min</th>\n",
       "      <td>1.000000</td>\n",
       "      <td>1.00000</td>\n",
       "      <td>1.000000</td>\n",
       "      <td>5.000000</td>\n",
       "      <td>5.000000</td>\n",
       "    </tr>\n",
       "    <tr>\n",
       "      <th>25%</th>\n",
       "      <td>9.000000</td>\n",
       "      <td>5.00000</td>\n",
       "      <td>76.000000</td>\n",
       "      <td>123.000000</td>\n",
       "      <td>73.000000</td>\n",
       "    </tr>\n",
       "    <tr>\n",
       "      <th>50%</th>\n",
       "      <td>16.000000</td>\n",
       "      <td>10.00000</td>\n",
       "      <td>151.000000</td>\n",
       "      <td>174.000000</td>\n",
       "      <td>111.000000</td>\n",
       "    </tr>\n",
       "    <tr>\n",
       "      <th>75%</th>\n",
       "      <td>24.000000</td>\n",
       "      <td>15.00000</td>\n",
       "      <td>225.000000</td>\n",
       "      <td>203.250000</td>\n",
       "      <td>130.000000</td>\n",
       "    </tr>\n",
       "    <tr>\n",
       "      <th>max</th>\n",
       "      <td>32.000000</td>\n",
       "      <td>20.00000</td>\n",
       "      <td>300.000000</td>\n",
       "      <td>300.000000</td>\n",
       "      <td>200.000000</td>\n",
       "    </tr>\n",
       "  </tbody>\n",
       "</table>\n",
       "</div>"
      ],
      "text/plain": [
       "           id_branch  medicine_type  medicine_quantity  systolic_pressure  \\\n",
       "count  100000.000000   100000.00000      100000.000000      100000.000000   \n",
       "mean       16.501000       10.46311         150.525970         162.720940   \n",
       "std         9.227581        5.75670          86.583277          64.953412   \n",
       "min         1.000000        1.00000           1.000000           5.000000   \n",
       "25%         9.000000        5.00000          76.000000         123.000000   \n",
       "50%        16.000000       10.00000         151.000000         174.000000   \n",
       "75%        24.000000       15.00000         225.000000         203.250000   \n",
       "max        32.000000       20.00000         300.000000         300.000000   \n",
       "\n",
       "       diastolic_pressure  \n",
       "count       100000.000000  \n",
       "mean           104.923600  \n",
       "std             43.240598  \n",
       "min              5.000000  \n",
       "25%             73.000000  \n",
       "50%            111.000000  \n",
       "75%            130.000000  \n",
       "max            200.000000  "
      ]
     },
     "execution_count": 122,
     "metadata": {},
     "output_type": "execute_result"
    }
   ],
   "source": [
    "df_data.describe()\n",
    "#muestra los datos estadisticos , de las columnas y filas con dstos INT"
   ]
  },
  {
   "cell_type": "code",
   "execution_count": 130,
   "metadata": {},
   "outputs": [
    {
     "data": {
      "text/plain": [
       "'Cundinamarca'"
      ]
     },
     "execution_count": 130,
     "metadata": {},
     "output_type": "execute_result"
    }
   ],
   "source": [
    "df_data.loc[1]['department_name']"
   ]
  },
  {
   "cell_type": "code",
   "execution_count": 129,
   "metadata": {},
   "outputs": [
    {
     "data": {
      "text/plain": [
       "'Cundinamarca'"
      ]
     },
     "execution_count": 129,
     "metadata": {},
     "output_type": "execute_result"
    }
   ],
   "source": [
    "df_data.iloc[1][4]"
   ]
  },
  {
   "cell_type": "code",
   "execution_count": 131,
   "metadata": {},
   "outputs": [
    {
     "data": {
      "text/plain": [
       "0                 Santander\n",
       "1              Cundinamarca\n",
       "2                 Antioquia\n",
       "3                La Guajira\n",
       "4                    Narino\n",
       "                ...        \n",
       "99995    Norte de Santander\n",
       "99996               Bolivar\n",
       "99997            La Guajira\n",
       "99998               Vichada\n",
       "99999                Boyaca\n",
       "Name: department_name, Length: 100000, dtype: object"
      ]
     },
     "execution_count": 131,
     "metadata": {},
     "output_type": "execute_result"
    }
   ],
   "source": [
    "df_data['department_name']"
   ]
  },
  {
   "cell_type": "code",
   "execution_count": 134,
   "metadata": {},
   "outputs": [
    {
     "data": {
      "text/plain": [
       "0                 Santander\n",
       "1              Cundinamarca\n",
       "2                 Antioquia\n",
       "3                La Guajira\n",
       "4                    Narino\n",
       "                ...        \n",
       "99995    Norte de Santander\n",
       "99996               Bolivar\n",
       "99997            La Guajira\n",
       "99998               Vichada\n",
       "99999                Boyaca\n",
       "Name: department_name, Length: 100000, dtype: object"
      ]
     },
     "execution_count": 134,
     "metadata": {},
     "output_type": "execute_result"
    }
   ],
   "source": []
  },
  {
   "cell_type": "code",
   "execution_count": 135,
   "metadata": {},
   "outputs": [
    {
     "data": {
      "text/plain": [
       "'Narino'"
      ]
     },
     "execution_count": 135,
     "metadata": {},
     "output_type": "execute_result"
    }
   ],
   "source": [
    "df_data.department_name[4]"
   ]
  },
  {
   "cell_type": "code",
   "execution_count": 136,
   "metadata": {},
   "outputs": [
    {
     "data": {
      "text/html": [
       "<div>\n",
       "<style scoped>\n",
       "    .dataframe tbody tr th:only-of-type {\n",
       "        vertical-align: middle;\n",
       "    }\n",
       "\n",
       "    .dataframe tbody tr th {\n",
       "        vertical-align: top;\n",
       "    }\n",
       "\n",
       "    .dataframe thead th {\n",
       "        text-align: right;\n",
       "    }\n",
       "</style>\n",
       "<table border=\"1\" class=\"dataframe\">\n",
       "  <thead>\n",
       "    <tr style=\"text-align: right;\">\n",
       "      <th></th>\n",
       "      <th>first_name</th>\n",
       "      <th>last_name</th>\n",
       "      <th>gender</th>\n",
       "      <th>city_name</th>\n",
       "      <th>department_name</th>\n",
       "      <th>id_branch</th>\n",
       "      <th>medicine_type</th>\n",
       "      <th>medicine_quantity</th>\n",
       "      <th>systolic_pressure</th>\n",
       "      <th>diastolic_pressure</th>\n",
       "    </tr>\n",
       "  </thead>\n",
       "  <tbody>\n",
       "    <tr>\n",
       "      <th>0</th>\n",
       "      <td>Meagan</td>\n",
       "      <td>Swanson</td>\n",
       "      <td>f</td>\n",
       "      <td>Bucaramanga</td>\n",
       "      <td>Santander</td>\n",
       "      <td>27</td>\n",
       "      <td>8</td>\n",
       "      <td>158</td>\n",
       "      <td>142</td>\n",
       "      <td>85</td>\n",
       "    </tr>\n",
       "    <tr>\n",
       "      <th>1</th>\n",
       "      <td>Jennifer</td>\n",
       "      <td>Hancock</td>\n",
       "      <td>f</td>\n",
       "      <td>Bogota</td>\n",
       "      <td>Cundinamarca</td>\n",
       "      <td>14</td>\n",
       "      <td>9</td>\n",
       "      <td>11</td>\n",
       "      <td>186</td>\n",
       "      <td>115</td>\n",
       "    </tr>\n",
       "    <tr>\n",
       "      <th>2</th>\n",
       "      <td>Dorothy</td>\n",
       "      <td>Brumley</td>\n",
       "      <td>f</td>\n",
       "      <td>Medellin</td>\n",
       "      <td>Antioquia</td>\n",
       "      <td>2</td>\n",
       "      <td>18</td>\n",
       "      <td>100</td>\n",
       "      <td>190</td>\n",
       "      <td>124</td>\n",
       "    </tr>\n",
       "    <tr>\n",
       "      <th>3</th>\n",
       "      <td>Stephanie</td>\n",
       "      <td>Lamb</td>\n",
       "      <td>f</td>\n",
       "      <td>Riohacha</td>\n",
       "      <td>La Guajira</td>\n",
       "      <td>18</td>\n",
       "      <td>9</td>\n",
       "      <td>57</td>\n",
       "      <td>212</td>\n",
       "      <td>144</td>\n",
       "    </tr>\n",
       "    <tr>\n",
       "      <th>4</th>\n",
       "      <td>Keith</td>\n",
       "      <td>Wright</td>\n",
       "      <td>m</td>\n",
       "      <td>Pasto</td>\n",
       "      <td>Narino</td>\n",
       "      <td>21</td>\n",
       "      <td>20</td>\n",
       "      <td>150</td>\n",
       "      <td>24</td>\n",
       "      <td>48</td>\n",
       "    </tr>\n",
       "  </tbody>\n",
       "</table>\n",
       "</div>"
      ],
      "text/plain": [
       "  first_name last_name gender    city_name department_name  id_branch  \\\n",
       "0     Meagan   Swanson      f  Bucaramanga       Santander         27   \n",
       "1   Jennifer   Hancock      f       Bogota    Cundinamarca         14   \n",
       "2    Dorothy   Brumley      f     Medellin       Antioquia          2   \n",
       "3  Stephanie      Lamb      f     Riohacha      La Guajira         18   \n",
       "4      Keith    Wright      m        Pasto          Narino         21   \n",
       "\n",
       "   medicine_type  medicine_quantity  systolic_pressure  diastolic_pressure  \n",
       "0              8                158                142                  85  \n",
       "1              9                 11                186                 115  \n",
       "2             18                100                190                 124  \n",
       "3              9                 57                212                 144  \n",
       "4             20                150                 24                  48  "
      ]
     },
     "execution_count": 136,
     "metadata": {},
     "output_type": "execute_result"
    }
   ],
   "source": [
    "#Mascaras, las mascaras nos permitiran hacer filtros mas complejos\n",
    "df_data.head()"
   ]
  },
  {
   "cell_type": "code",
   "execution_count": 140,
   "metadata": {},
   "outputs": [],
   "source": [
    "mascara_SP = df_data['systolic_pressure']>100"
   ]
  },
  {
   "cell_type": "code",
   "execution_count": 141,
   "metadata": {},
   "outputs": [
    {
     "data": {
      "text/plain": [
       "0         True\n",
       "1         True\n",
       "2         True\n",
       "3         True\n",
       "4        False\n",
       "         ...  \n",
       "99995     True\n",
       "99996    False\n",
       "99997     True\n",
       "99998     True\n",
       "99999    False\n",
       "Name: systolic_pressure, Length: 100000, dtype: bool"
      ]
     },
     "execution_count": 141,
     "metadata": {},
     "output_type": "execute_result"
    }
   ],
   "source": [
    "mascara_SP"
   ]
  },
  {
   "cell_type": "code",
   "execution_count": 145,
   "metadata": {},
   "outputs": [
    {
     "data": {
      "text/html": [
       "<div>\n",
       "<style scoped>\n",
       "    .dataframe tbody tr th:only-of-type {\n",
       "        vertical-align: middle;\n",
       "    }\n",
       "\n",
       "    .dataframe tbody tr th {\n",
       "        vertical-align: top;\n",
       "    }\n",
       "\n",
       "    .dataframe thead th {\n",
       "        text-align: right;\n",
       "    }\n",
       "</style>\n",
       "<table border=\"1\" class=\"dataframe\">\n",
       "  <thead>\n",
       "    <tr style=\"text-align: right;\">\n",
       "      <th></th>\n",
       "      <th>first_name</th>\n",
       "      <th>last_name</th>\n",
       "      <th>gender</th>\n",
       "      <th>city_name</th>\n",
       "      <th>department_name</th>\n",
       "      <th>id_branch</th>\n",
       "      <th>medicine_type</th>\n",
       "      <th>medicine_quantity</th>\n",
       "      <th>systolic_pressure</th>\n",
       "      <th>diastolic_pressure</th>\n",
       "    </tr>\n",
       "  </thead>\n",
       "  <tbody>\n",
       "    <tr>\n",
       "      <th>0</th>\n",
       "      <td>Meagan</td>\n",
       "      <td>Swanson</td>\n",
       "      <td>f</td>\n",
       "      <td>Bucaramanga</td>\n",
       "      <td>Santander</td>\n",
       "      <td>27</td>\n",
       "      <td>8</td>\n",
       "      <td>158</td>\n",
       "      <td>142</td>\n",
       "      <td>85</td>\n",
       "    </tr>\n",
       "    <tr>\n",
       "      <th>1</th>\n",
       "      <td>Jennifer</td>\n",
       "      <td>Hancock</td>\n",
       "      <td>f</td>\n",
       "      <td>Bogota</td>\n",
       "      <td>Cundinamarca</td>\n",
       "      <td>14</td>\n",
       "      <td>9</td>\n",
       "      <td>11</td>\n",
       "      <td>186</td>\n",
       "      <td>115</td>\n",
       "    </tr>\n",
       "    <tr>\n",
       "      <th>2</th>\n",
       "      <td>Dorothy</td>\n",
       "      <td>Brumley</td>\n",
       "      <td>f</td>\n",
       "      <td>Medellin</td>\n",
       "      <td>Antioquia</td>\n",
       "      <td>2</td>\n",
       "      <td>18</td>\n",
       "      <td>100</td>\n",
       "      <td>190</td>\n",
       "      <td>124</td>\n",
       "    </tr>\n",
       "    <tr>\n",
       "      <th>3</th>\n",
       "      <td>Stephanie</td>\n",
       "      <td>Lamb</td>\n",
       "      <td>f</td>\n",
       "      <td>Riohacha</td>\n",
       "      <td>La Guajira</td>\n",
       "      <td>18</td>\n",
       "      <td>9</td>\n",
       "      <td>57</td>\n",
       "      <td>212</td>\n",
       "      <td>144</td>\n",
       "    </tr>\n",
       "  </tbody>\n",
       "</table>\n",
       "</div>"
      ],
      "text/plain": [
       "  first_name last_name gender    city_name department_name  id_branch  \\\n",
       "0     Meagan   Swanson      f  Bucaramanga       Santander         27   \n",
       "1   Jennifer   Hancock      f       Bogota    Cundinamarca         14   \n",
       "2    Dorothy   Brumley      f     Medellin       Antioquia          2   \n",
       "3  Stephanie      Lamb      f     Riohacha      La Guajira         18   \n",
       "\n",
       "   medicine_type  medicine_quantity  systolic_pressure  diastolic_pressure  \n",
       "0              8                158                142                  85  \n",
       "1              9                 11                186                 115  \n",
       "2             18                100                190                 124  \n",
       "3              9                 57                212                 144  "
      ]
     },
     "execution_count": 145,
     "metadata": {},
     "output_type": "execute_result"
    }
   ],
   "source": [
    "df_data[mascara_SP].head(4)"
   ]
  },
  {
   "cell_type": "code",
   "execution_count": 156,
   "metadata": {},
   "outputs": [
    {
     "data": {
      "text/plain": [
       "<AxesSubplot: title={'center': 'systolic_pressure'}, ylabel='Frequency'>"
      ]
     },
     "execution_count": 156,
     "metadata": {},
     "output_type": "execute_result"
    },
    {
     "data": {
      "image/png": "[encoded data removed]",
      "text/plain": [
       "<Figure size 640x480 with 1 Axes>"
      ]
     },
     "metadata": {},
     "output_type": "display_data"
    }
   ],
   "source": [
    "df_data[\"systolic_pressure\"].plot.hist(title = 'systolic_pressure')"
   ]
  },
  {
   "cell_type": "code",
   "execution_count": 158,
   "metadata": {},
   "outputs": [
    {
     "data": {
      "text/html": [
       "\n",
       "        <iframe\n",
       "            width=\"100%\"\n",
       "            height=\"475\"\n",
       "            src=\"http://DESKTOP-5EHM1U0:40000/dtale/iframe/1\"\n",
       "            frameborder=\"0\"\n",
       "            allowfullscreen\n",
       "            \n",
       "        ></iframe>\n",
       "        "
      ],
      "text/plain": [
       "<IPython.lib.display.IFrame at 0x2499a79dc90>"
      ]
     },
     "metadata": {},
     "output_type": "display_data"
    },
    {
     "data": {
      "text/plain": []
     },
     "execution_count": 158,
     "metadata": {},
     "output_type": "execute_result"
    }
   ],
   "source": [
    "dtale.show(df_data)"
   ]
  },
  {
   "cell_type": "code",
   "execution_count": 146,
   "metadata": {},
   "outputs": [],
   "source": [
    "import dtale"
   ]
  }
 ],
 "metadata": {
  "kernelspec": {
   "display_name": "Python 3",
   "language": "python",
   "name": "python3"
  },
  "language_info": {
   "codemirror_mode": {
    "name": "ipython",
    "version": 3
   },
   "file_extension": ".py",
   "mimetype": "text/x-python",
   "name": "python",
   "nbconvert_exporter": "python",
   "pygments_lexer": "ipython3",
   "version": "3.11.2"
  },
  "orig_nbformat": 4,
  "vscode": {
   "interpreter": {
    "hash": "c812eb984687e98b7686c463c3fae2045e58b2a2b4e065b3dcebe3cb7d51662e"
   }
  }
 },
 "nbformat": 4,
 "nbformat_minor": 2
}
